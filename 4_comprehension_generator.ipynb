{
 "cells": [
  {
   "cell_type": "markdown",
   "metadata": {},
   "source": [
    "Comprehension : 리스트,딕셔너리,집합 등의 타입을 간결하게 이터레이션 하면서 원소로 부터 파생되는 데이터 구조를 생성할 수 있다    \n",
    "\n",
    "Generator : 컴프리헨션 코딩 스타일을 사용하는 함수로 확장할 수 있다, 함수가 점진적으로 반환하는 값으로 이뤄지는 스트림을 만들어 준다. 이터레이터를 사용할 수 있는 곳(for 루프,별표 식 등) 이라면, 어디든 제너레이터 함수를 호출할 수 있다. - 가독성 뿐만 아니라 성능향상과 메모리 사용을 줄인다. \n",
    "\n"
   ]
  },
  {
   "cell_type": "markdown",
   "metadata": {},
   "source": [
    "# map과 filter대신 컴프리헨션을 사용하라. "
   ]
  },
  {
   "cell_type": "code",
   "execution_count": 1,
   "metadata": {},
   "outputs": [
    {
     "name": "stdout",
     "output_type": "stream",
     "text": [
      "[1, 4, 9, 16, 25, 36, 49, 64, 81, 100]\n"
     ]
    }
   ],
   "source": [
    "#for 루프를 이용한 계산 \n",
    "a = [1,2,3,4,5,6,7,8,9,10]\n",
    "squares = [] \n",
    "\n",
    "for x in a:\n",
    "    squares.append(x**2)\n",
    "print(squares)"
   ]
  },
  {
   "cell_type": "code",
   "execution_count": 3,
   "metadata": {},
   "outputs": [
    {
     "name": "stdout",
     "output_type": "stream",
     "text": [
      "[1, 4, 9, 16, 25, 36, 49, 64, 81, 100]\n"
     ]
    }
   ],
   "source": [
    "# 컴프리헨션을 이용한 계산 \n",
    "sq = [x**2 for x in a]\n",
    "print(sq)"
   ]
  },
  {
   "cell_type": "code",
   "execution_count": 8,
   "metadata": {},
   "outputs": [
    {
     "name": "stdout",
     "output_type": "stream",
     "text": [
      "[1, 4, 9, 16, 25, 36, 49, 64, 81, 100]\n",
      "[4, 16, 36, 64, 100]\n"
     ]
    }
   ],
   "source": [
    "# map 함수보다 가독성이 좋고, 원소도 쉽게 필터링 가능하다. \n",
    "alt = list(map(lambda x:x**2,a)) # 위와 동일한 계산 \n",
    "print(alt)\n",
    "\n",
    "# 컴프리헨션 \n",
    "even_squares = [x**2 for x in a if x %2==0]\n",
    "print(even_squares)\n",
    "\n",
    "# map\n",
    "alt = map(lambda x:x**2, filter(lambda x:x%2 ==0,a))\n",
    "assert even_squares == list(alt) # 똑같은 결과 값을 얻기 위해 filter(),map()함수를 두가지를 사용 해야한다. / 가독성도 떨어진다. \n"
   ]
  },
  {
   "cell_type": "code",
   "execution_count": 9,
   "metadata": {},
   "outputs": [
    {
     "name": "stdout",
     "output_type": "stream",
     "text": [
      "{2: 4, 4: 16, 6: 36, 8: 64, 10: 100}\n",
      "{216, 729, 27}\n"
     ]
    }
   ],
   "source": [
    "# 딕셔너리 컴프리헨션과 집합 컴프리헤션도 있다. \n",
    "even_squares_dict = {x : x**2 for x in a if x %2 ==0}\n",
    "threes_cubed_set = {x**3 for x in a if x %3==0}\n",
    "\n",
    "print(even_squares_dict)\n",
    "print(threes_cubed_set)"
   ]
  },
  {
   "cell_type": "code",
   "execution_count": 11,
   "metadata": {},
   "outputs": [
    {
     "name": "stdout",
     "output_type": "stream",
     "text": [
      "{2: 4, 4: 16, 6: 36, 8: 64, 10: 100}\n",
      "{216, 729, 27}\n"
     ]
    }
   ],
   "source": [
    "alt_dict = dict(map(lambda x:(x,x**2),filter(lambda x:x%2==0,a)))\n",
    "print(alt_dict)\n",
    "alt_set = set(map(lambda x:x**3,filter(lambda x: x%3==0,a)))\n",
    "print(alt_set)"
   ]
  },
  {
   "cell_type": "code",
   "execution_count": null,
   "metadata": {},
   "outputs": [],
   "source": []
  }
 ],
 "metadata": {
  "kernelspec": {
   "display_name": "apple",
   "language": "python",
   "name": "python3"
  },
  "language_info": {
   "codemirror_mode": {
    "name": "ipython",
    "version": 3
   },
   "file_extension": ".py",
   "mimetype": "text/x-python",
   "name": "python",
   "nbconvert_exporter": "python",
   "pygments_lexer": "ipython3",
   "version": "3.8.18"
  }
 },
 "nbformat": 4,
 "nbformat_minor": 2
}
