{
 "cells": [
  {
   "cell_type": "markdown",
   "metadata": {},
   "source": [
    "# 제너레이터"
   ]
  },
  {
   "cell_type": "markdown",
   "metadata": {},
   "source": [
    "## 30 리스트를 반환하기 보다는 제너레이터를 사용하라.\n",
    "- 또하나의 차이점은 for문의 index_words는 모든 결과값을 저장한다. \n",
    "- 제너레이터 버전으로 만들면 사용하는 메모리 크기를 어느정도 제한할 수 있다. -> 입력 길이가 아무리 길어도 쉽게 처리가 가능하다. \n"
   ]
  },
  {
   "cell_type": "code",
   "execution_count": 3,
   "metadata": {},
   "outputs": [
    {
     "name": "stdout",
     "output_type": "stream",
     "text": [
      "[0, 8, 18, 23, 28, 33, 39]\n",
      "0\n",
      "8\n",
      "[0, 8, 18, 23, 28, 33, 39]\n"
     ]
    }
   ],
   "source": [
    "# 일반적인 for문 \n",
    "def index_words(text):\n",
    "    result =[]\n",
    "    if text:\n",
    "        result.append(0)\n",
    "    for ind,val in enumerate(text):\n",
    "        if val == \" \":\n",
    "            result.append(ind+1)\n",
    "    \n",
    "    return result \n",
    "\n",
    "address = \"컴퓨터(영어: Computer, 문화어: 콤퓨터, 순화어: 전산기)는 진공관\"\n",
    "result = index_words(address)\n",
    "print(result[:10])\n",
    "\n",
    "# 위 일반적인 for문은 핵심을 알아보기 어려움 - 가독성이 떨어짐 \n",
    "# index +1의 중요성을 희석해 버림 \n",
    "# 제너레이터 방법\n",
    "def index_words_iter(text):\n",
    "    if text:\n",
    "        yield 0 \n",
    "    for ind,val in enumerate(text):\n",
    "        if val == \" \":\n",
    "            yield ind+1\n",
    "\n",
    "# 가독성이 늘어 났다 -> 반환하는 리스트와 상호작용하는 코드가 사라짐 \n",
    "# 이 함수가 호출되면 제너레이터 함수가 실제로 실행되지 않고 이터레이터를 반환한다. \n",
    "# 이터레이터가 next내장 함수를 호출할 때마다 이터레이터는 제너레이터 함수를 다음 yield까지 진행 \n",
    "# 제너레이터가 yield에 전강하는 값은 이터레이터에 의해 호출하는 쪽에 반환한다.!!!! \n",
    "            \n",
    "it = index_words_iter(address)\n",
    "print(next(it))\n",
    "print(next(it))\n",
    "\n",
    "# 제너레이터의 출력이 이터레이터를 반환하기 때문에 손쉽게 리스트로 바꾸어 확인이 가능하다. \n",
    "result = list(index_words_iter(address))\n",
    "print(result[:10])"
   ]
  },
  {
   "cell_type": "markdown",
   "metadata": {},
   "source": [
    "- 또 하나의 차이점은 for문의 index_words는 모든 결과를 저장한다. \n",
    "- 제너레이터 버전으로 만들면 사용하는 메모리 크기를 어느정도 제한 가능하다. -> 입력 길이가 아무리 길어도 제일 긴 줄 정도\n"
   ]
  },
  {
   "cell_type": "code",
   "execution_count": 4,
   "metadata": {},
   "outputs": [
    {
     "name": "stdout",
     "output_type": "stream",
     "text": [
      "[0, 8, 18, 23, 28, 38]\n"
     ]
    }
   ],
   "source": [
    "import itertools\n",
    "def index_file(handle):\n",
    "    offset = 0\n",
    "    for line in handle:\n",
    "        if line:\n",
    "            yield offset\n",
    "        for letter in line:\n",
    "            offset +=1\n",
    "            if letter == \" \":\n",
    "                yield offset\n",
    "\n",
    "# 이 함수의 작업 메모리는 입력 중 가장 긴 줄의 길이로 제한 된다. \n",
    "# 제너레이터를 정의할 때 한 가지 주의함 점이 있다.\n",
    "#제너레이터가 반환하는 이터레이터에 상태가 있기에 호출하는 쪽에서 재사용이 불가능 하다\n",
    "with open(\"address.txt\",\"r\",encoding=\"utf-8\") as f:\n",
    "    it = index_file(f)\n",
    "    results = itertools.islice(it,0,10) # 36. 이터레이터나 제너레이터를 다룰 때는 itertools를 사용하라.\n",
    "    print(list(results))\n"
   ]
  },
  {
   "cell_type": "markdown",
   "metadata": {},
   "source": [
    "제너레이터를 정의할 대 한 가지 알아둬야 할 사항은 제너레이터가 반환하는 이터레이터에 상태가 있기 때문에 \n",
    "호출하는 쪽에서 재상용이 불가능하다."
   ]
  },
  {
   "cell_type": "markdown",
   "metadata": {},
   "source": [
    "## 31. 인자에 대해 이터레션할 때는 방어적이 돼라.\n",
    "- 객체가 원소로 들어가 있는 리스트를 함수가 파라미터로 받았을 때, 이 리스트를 여러번 이터레이션 하는 것이 중요할 때가 종종 있다.\n",
    "- 전체 여행자수를 계산하기 위해 입력 전체의 합계를 내고 이 합계를 이용해서 각 도시의 방문자 수를 나누는 정규화 함수가 필요하다. "
   ]
  },
  {
   "cell_type": "code",
   "execution_count": 5,
   "metadata": {},
   "outputs": [
    {
     "name": "stdout",
     "output_type": "stream",
     "text": [
      "[11.538461538461538, 26.923076923076923, 61.53846153846154]\n"
     ]
    }
   ],
   "source": [
    "def normalize(numbers):\n",
    "    total = sum(numbers)\n",
    "    result = [] \n",
    "    for value in numbers:\n",
    "        percent = 100*value /total\n",
    "        result.append(percent)\n",
    "    return result\n",
    "\n",
    "visits = [15,35,80]\n",
    "percentages = normalize(visits)\n",
    "print(percentages)\n",
    "\n",
    "assert sum(percentages) == 100.0"
   ]
  },
  {
   "cell_type": "code",
   "execution_count": 6,
   "metadata": {},
   "outputs": [
    {
     "name": "stdout",
     "output_type": "stream",
     "text": [
      "[]\n"
     ]
    }
   ],
   "source": [
    "# 코드의 확장성을 높이고, 객체 수를 증가 시킨다면, 메모리가 중요하다.(훨씬 더 많은 메모리 필요)\n",
    "# 그러므로 파일을 읽는 제너레이터를 구현 한다. \n",
    "def read_visits(data_path):\n",
    "    with open(data_path) as f:\n",
    "        for line in f: # txt 파일이지만, 'r' 옵션도 주지 않고, f.readline등의 함수도 사용하지 않는다? \n",
    "            yield int(line) # readlines랑 같은 역활?\n",
    "\n",
    "it = read_visits(\"my_numbers.txt\")\n",
    "percentages = normalize(it)\n",
    "print(percentages)\n"
   ]
  },
  {
   "cell_type": "markdown",
   "metadata": {},
   "source": [
    "빈 리스트가 출력되는 이유는 제너레이터 타입이 input 으로 들어가기 때문에   \n",
    "sum()함수에서 제너레이터 함수를 전부 사용하고 그 밑에 for문은 빈 리스트를 실행함    \n",
    "이미 stopIteration이 발생했지만 파이썬 표준 라이브러리에 있는 많은 함수가 일반적인 연산 도중에 stopIteration 예외가   \n",
    "던져지는 것을 가정한다."
   ]
  },
  {
   "cell_type": "code",
   "execution_count": 7,
   "metadata": {},
   "outputs": [
    {
     "name": "stdout",
     "output_type": "stream",
     "text": [
      "[15, 35, 80]\n",
      "[]\n"
     ]
    }
   ],
   "source": [
    "it = read_visits(\"my_numbers.txt\")\n",
    "print(list(it))\n",
    "print(list(it))"
   ]
  },
  {
   "cell_type": "markdown",
   "metadata": {},
   "source": [
    "- 이런 함수들은 출력이 없는 이터레이터와 이미 소진돼버린 이터레이터를 구분할 수 없다. \n",
    "- 이 문제를 해결하기 위해 입력 이터레이터를 명시적으로 소진 시키고, 이터레이터의 전체 내용을 리스트에 넣을 수 있다. \n",
    "- 리스트에 넣은 후 원하는 만큼 반복해서 이터레이션을 수행 할 수 있다. "
   ]
  },
  {
   "cell_type": "code",
   "execution_count": 8,
   "metadata": {},
   "outputs": [
    {
     "name": "stdout",
     "output_type": "stream",
     "text": [
      "[11.538461538461538, 26.923076923076923, 61.53846153846154]\n"
     ]
    }
   ],
   "source": [
    "# 입력 이터레이터를 방어적으로 복사하도록 만든 코드다. \n",
    "def normalize_copy(numbers):\n",
    "    numbers_copy = list(numbers)\n",
    "    total = sum(numbers_copy)\n",
    "    result = [] \n",
    "    for value in numbers_copy:\n",
    "        percent = 100 * value / total\n",
    "        result.append(percent)\n",
    "    return result\n",
    "\n",
    "it = read_visits(\"my_numbers.txt\")\n",
    "percentages = normalize_copy(it)\n",
    "print(percentages)\n",
    "assert sum(percentages) == 100.0\n",
    "\n",
    "# 단 이 방법은 메모리 문제가 그대로 있다. \n",
    "# copy하면서 리스트 길이 만큼 메모리를 잡아먹기 때문이다. \n",
    "# 제너레이터를 쓰는 이유가 반감이 되어 버린다.\n"
   ]
  },
  {
   "cell_type": "markdown",
   "metadata": {},
   "source": [
    "- 위 방법(리스트에 복사 하는 방법은) 이전에 문제가 발생했던 메모리 문제를 해결하지 못한다. (규모 확장성)\n",
    "- 이 문제를 해결하는 다른 방법은 호출될 때마다 새로운 이터레이터를 반홚나는 함수를 받는 것이다. "
   ]
  },
  {
   "cell_type": "code",
   "execution_count": 9,
   "metadata": {},
   "outputs": [
    {
     "name": "stdout",
     "output_type": "stream",
     "text": [
      "[11.538461538461538, 26.923076923076923, 61.53846153846154]\n"
     ]
    }
   ],
   "source": [
    "# 이 문제를 해결하는 다른 방법으로는 호출 될 때마다 새로 이터레이터를 반환하는 함수를 받는 것이다.\n",
    "def normalize_func(get_iter):\n",
    "    total = sum(get_iter()) # 새 이터레이터? \n",
    "    result = [] \n",
    "\n",
    "    for value in get_iter(): \n",
    "        percent = 100 *value / total\n",
    "        result.append(percent)\n",
    "    \n",
    "    return result \n",
    "path = \"my_numbers.txt\"\n",
    "percentages = normalize_func(lambda : read_visits(path))\n",
    "print(percentages)\n",
    "assert sum(percentages) == 100.0\n",
    "# 잘 작동하지만, 람다 함수를 넘기는 것은 보기에 좋치 않다\n",
    "# 같은 결과를 달성하는 더 나은 방법은 이터레이터 프로토콜을 구현한 새로운 컨테이너 클래스를 제공하는 것이다. \n"
   ]
  },
  {
   "cell_type": "markdown",
   "metadata": {},
   "source": [
    "\n",
    "# 이터레이터 프로토콜\n",
    "- 이터레이터 프로토콜은 파이썬의 For루프나 그와 관련된 식들이 컨테이너타입의 내용을 방문할 때 사용하는 절차이다. \n",
    "- 파이썬에서 for x in foo 구문을 사용하면 실제로는 iter(foo)를 호출한다.\n",
    "- iter 내장함수는 foo.\\_\\_iter\\_\\_ 라는 특별 메소드를 호출한다. \n",
    "- \\_\\_iter\\_\\_메서드는 반드시 이터레이터 객체를 반환해야 한다. for 루프는 반환받은 이터레이터 객체가 데이터를 소진(StopIteration 예외)를 받을 때까지 반복적으로 이터레이터 객체에 대해 Next 내장함수를 호출한다. \n"
   ]
  },
  {
   "cell_type": "code",
   "execution_count": 10,
   "metadata": {},
   "outputs": [],
   "source": [
    "class ReadVisit: # 이터러블 컨테이너 타입 \n",
    "    def __init__(self,data_path) -> None:\n",
    "        self.data_path = data_path\n",
    "\n",
    "    def __iter__(self):\n",
    "        with open(self.data_path) as f:\n",
    "            for line in f:\n",
    "                yield int(line)\n"
   ]
  },
  {
   "cell_type": "markdown",
   "metadata": {},
   "source": [
    "- \\_\\_iter\\_\\_ 메서드를 제너레이터로 구현하기만 하면 된다. \n",
    "- 메모리 이슈는 발생 여부가 낮아지지만, 이터레이터를 여러번 이터레이션 해야한다. "
   ]
  },
  {
   "cell_type": "code",
   "execution_count": 11,
   "metadata": {},
   "outputs": [
    {
     "name": "stdout",
     "output_type": "stream",
     "text": [
      "[11.538461538461538, 26.923076923076923, 61.53846153846154]\n"
     ]
    }
   ],
   "source": [
    "visits = ReadVisit(path)\n",
    "percentages = normalize(visits)\n",
    "print(percentages)"
   ]
  },
  {
   "cell_type": "markdown",
   "metadata": {},
   "source": [
    "normalize 함수 안의 sum메서드가 ReadVisit.\\_\\_iter\\_\\_ 를 호출해서 새로운 이터레이터 객체를 할당하고   \n",
    "for 루프 또한 ReadVisit.\\_\\_iter\\_\\_ 호출해서 두 번쨰 이터레이터 객체를 만든다.   \n",
    "\n",
    "이 두 이터레이터는 서로 독립적으로 진행되고 소진된다.   \n",
    "\n",
    "이 접근 방법의 유일한 단점은 입력데이터를 여러 번 읽는다는 것이다. "
   ]
  },
  {
   "cell_type": "markdown",
   "metadata": {},
   "source": [
    "- 이터레이터가 iter 내장 함수에 전달되는 경우에는 전달받은 이터레이터가 그대로 반환된다.\n",
    "- 컨테이너 타입이 iter에 전달되면 매번 새로운 이터레이터 객체가 반환된다. \n",
    "- 반복적으로 이터레이션 할 수 없는 인자인 경우에는 TypeError를 발생시켜서 인자를 거부한다. "
   ]
  },
  {
   "cell_type": "code",
   "execution_count": 12,
   "metadata": {},
   "outputs": [
    {
     "name": "stdout",
     "output_type": "stream",
     "text": [
      "[11.538461538461538, 26.923076923076923, 61.53846153846154]\n"
     ]
    },
    {
     "ename": "TypeError",
     "evalue": "",
     "output_type": "error",
     "traceback": [
      "\u001b[1;31m---------------------------------------------------------------------------\u001b[0m",
      "\u001b[1;31mTypeError\u001b[0m                                 Traceback (most recent call last)",
      "Cell \u001b[1;32mIn[12], line 15\u001b[0m\n\u001b[0;32m     12\u001b[0m pers \u001b[38;5;241m=\u001b[39m normalize_defensive(visits) \u001b[38;5;66;03m# 컨테이너 반환 \u001b[39;00m\n\u001b[0;32m     13\u001b[0m \u001b[38;5;28mprint\u001b[39m(pers)\n\u001b[1;32m---> 15\u001b[0m per_err \u001b[38;5;241m=\u001b[39m \u001b[43mnormalize_defensive\u001b[49m\u001b[43m(\u001b[49m\u001b[43mread_visits\u001b[49m\u001b[43m(\u001b[49m\u001b[43mpath\u001b[49m\u001b[43m)\u001b[49m\u001b[43m)\u001b[49m \u001b[38;5;66;03m# 이터레이터 반환\u001b[39;00m\n\u001b[0;32m     16\u001b[0m \u001b[38;5;28mprint\u001b[39m(per_err)\n",
      "Cell \u001b[1;32mIn[12], line 3\u001b[0m, in \u001b[0;36mnormalize_defensive\u001b[1;34m(numbers)\u001b[0m\n\u001b[0;32m      1\u001b[0m \u001b[38;5;28;01mdef\u001b[39;00m \u001b[38;5;21mnormalize_defensive\u001b[39m(numbers):\n\u001b[0;32m      2\u001b[0m     \u001b[38;5;28;01mif\u001b[39;00m \u001b[38;5;28miter\u001b[39m(numbers) \u001b[38;5;129;01mis\u001b[39;00m numbers: \u001b[38;5;66;03m# 이터레이터 객체가 들어오면 반복적으로 이터레이션 할 수 없이, 한번 사용하고 소진된다. \u001b[39;00m\n\u001b[1;32m----> 3\u001b[0m         \u001b[38;5;28;01mraise\u001b[39;00m \u001b[38;5;167;01mTypeError\u001b[39;00m\n\u001b[0;32m      5\u001b[0m     total \u001b[38;5;241m=\u001b[39m \u001b[38;5;28msum\u001b[39m(numbers)\n\u001b[0;32m      6\u001b[0m     result \u001b[38;5;241m=\u001b[39m [] \n",
      "\u001b[1;31mTypeError\u001b[0m: "
     ]
    }
   ],
   "source": [
    "def normalize_defensive(numbers):\n",
    "    if iter(numbers) is numbers: # 이터레이터 객체가 들어오면 반복적으로 이터레이션 할 수 없이, 한번 사용하고 소진된다. \n",
    "        raise TypeError\n",
    "    # List는 문제가 되지 않는데, 리스트 또한 이터레이터 프로토콜을 따르는 이터러블 컨테이너기 떄문이다. \n",
    "    total = sum(numbers)\n",
    "    result = [] \n",
    "    for value in numbers:\n",
    "        percent = 100 * value / total\n",
    "        result.append(percent)\n",
    "    return result \n",
    "\n",
    "pers = normalize_defensive(visits) # 컨테이너 반환 \n",
    "print(pers)\n",
    "\n",
    "per_err = normalize_defensive(read_visits(path)) # 이터레이터 반환\n",
    "print(per_err)\n"
   ]
  },
  {
   "cell_type": "code",
   "execution_count": 15,
   "metadata": {},
   "outputs": [
    {
     "name": "stdout",
     "output_type": "stream",
     "text": [
      "[11.538461538461538, 26.923076923076923, 61.53846153846154]\n",
      "[11.538461538461538, 26.923076923076923, 61.53846153846154]\n"
     ]
    }
   ],
   "source": [
    "from collections.abc import Iterator \n",
    "\n",
    "def normalize_defensive2(numbers):\n",
    "    if isinstance(numbers,Iterator):\n",
    "        raise TypeError\n",
    "    total = sum(numbers)\n",
    "    result = [] \n",
    "    for value in numbers:\n",
    "        percent = 100 *value / total\n",
    "        result.append(percent)\n",
    "    return result\n",
    "\n",
    "\n",
    "pers = normalize_defensive2(visits) # 컨테이너 입력 \n",
    "print(pers)\n",
    "\n",
    "visit = [15,35,80]\n",
    "per_err2 = normalize_defensive2(visit) #리스트 입력\n",
    "print(per_err2)"
   ]
  },
  {
   "cell_type": "code",
   "execution_count": 16,
   "metadata": {},
   "outputs": [
    {
     "ename": "TypeError",
     "evalue": "",
     "output_type": "error",
     "traceback": [
      "\u001b[1;31m---------------------------------------------------------------------------\u001b[0m",
      "\u001b[1;31mTypeError\u001b[0m                                 Traceback (most recent call last)",
      "Cell \u001b[1;32mIn[16], line 1\u001b[0m\n\u001b[1;32m----> 1\u001b[0m per_err \u001b[38;5;241m=\u001b[39m \u001b[43mnormalize_defensive2\u001b[49m\u001b[43m(\u001b[49m\u001b[43mread_visits\u001b[49m\u001b[43m(\u001b[49m\u001b[43mpath\u001b[49m\u001b[43m)\u001b[49m\u001b[43m)\u001b[49m \u001b[38;5;66;03m# 이터레이터 반환\u001b[39;00m\n\u001b[0;32m      2\u001b[0m \u001b[38;5;28mprint\u001b[39m(per_err)\n",
      "Cell \u001b[1;32mIn[15], line 5\u001b[0m, in \u001b[0;36mnormalize_defensive2\u001b[1;34m(numbers)\u001b[0m\n\u001b[0;32m      3\u001b[0m \u001b[38;5;28;01mdef\u001b[39;00m \u001b[38;5;21mnormalize_defensive2\u001b[39m(numbers):\n\u001b[0;32m      4\u001b[0m     \u001b[38;5;28;01mif\u001b[39;00m \u001b[38;5;28misinstance\u001b[39m(numbers,Iterator):\n\u001b[1;32m----> 5\u001b[0m         \u001b[38;5;28;01mraise\u001b[39;00m \u001b[38;5;167;01mTypeError\u001b[39;00m\n\u001b[0;32m      6\u001b[0m     total \u001b[38;5;241m=\u001b[39m \u001b[38;5;28msum\u001b[39m(numbers)\n\u001b[0;32m      7\u001b[0m     result \u001b[38;5;241m=\u001b[39m [] \n",
      "\u001b[1;31mTypeError\u001b[0m: "
     ]
    }
   ],
   "source": [
    "per_err = normalize_defensive2(read_visits(path)) # 이터레이터 반환\n",
    "print(per_err)"
   ]
  },
  {
   "cell_type": "code",
   "execution_count": null,
   "metadata": {},
   "outputs": [
    {
     "ename": "TypeError",
     "evalue": "",
     "output_type": "error",
     "traceback": [
      "\u001b[0;31m---------------------------------------------------------------------------\u001b[0m",
      "\u001b[0;31mTypeError\u001b[0m                                 Traceback (most recent call last)",
      "Cell \u001b[0;32mIn[21], line 1\u001b[0m\n\u001b[0;32m----> 1\u001b[0m per_err4 \u001b[38;5;241m=\u001b[39m \u001b[43mnormalize_defensive2\u001b[49m\u001b[43m(\u001b[49m\u001b[38;5;28;43miter\u001b[39;49m\u001b[43m(\u001b[49m\u001b[43mvisit\u001b[49m\u001b[43m)\u001b[49m\u001b[43m)\u001b[49m\n\u001b[1;32m      2\u001b[0m \u001b[38;5;28mprint\u001b[39m(per_err4)\n",
      "Cell \u001b[0;32mIn[18], line 5\u001b[0m, in \u001b[0;36mnormalize_defensive2\u001b[0;34m(numbers)\u001b[0m\n\u001b[1;32m      3\u001b[0m \u001b[38;5;28;01mdef\u001b[39;00m \u001b[38;5;21mnormalize_defensive2\u001b[39m(numbers):\n\u001b[1;32m      4\u001b[0m     \u001b[38;5;28;01mif\u001b[39;00m \u001b[38;5;28misinstance\u001b[39m(numbers,Iterator):\n\u001b[0;32m----> 5\u001b[0m         \u001b[38;5;28;01mraise\u001b[39;00m \u001b[38;5;167;01mTypeError\u001b[39;00m\n\u001b[1;32m      6\u001b[0m     total \u001b[38;5;241m=\u001b[39m \u001b[38;5;28msum\u001b[39m(numbers)\n\u001b[1;32m      7\u001b[0m     result \u001b[38;5;241m=\u001b[39m [] \n",
      "\u001b[0;31mTypeError\u001b[0m: "
     ]
    }
   ],
   "source": [
    "per_err4 = normalize_defensive2(iter(visit))\n",
    "print(per_err4)"
   ]
  },
  {
   "cell_type": "markdown",
   "metadata": {},
   "source": [
    "# 리스트 컴프리헨션보다 제너레이터 식을 사용하라. \n",
    "- 각 줄에 들어 있는 문자 수를 반환한다고 하자. \n",
    "- 이를 리스트 컴프리헨션으로 하려면 파일 각 줄의 길이를 메모리에 저장해야한다. \n",
    "- 파일이 아주 크거나 절대로 끝나지 않는 네트워크 소켓이라면 리스트 컴프리헨셔을 사용하는 것은 문제가 될 수 있다. "
   ]
  },
  {
   "cell_type": "code",
   "execution_count": null,
   "metadata": {},
   "outputs": [
    {
     "name": "stdout",
     "output_type": "stream",
     "text": [
      "[100, 57, 15, 1, 12, 75, 5, 86, 89, 10]\n",
      "<generator object <genexpr> at 0x13021f580>\n",
      "100\n",
      "57\n",
      "(15, 3.872983346207417)\n"
     ]
    }
   ],
   "source": [
    "# 입력이 작은 경우 리스트 컴프리헨션을 사용한다. \n",
    "value = [len(x) for x in open(\"my_file.txt\")]\n",
    "print(value)\n",
    "\n",
    "\n",
    "\n",
    "# 제너레이터 식 \n",
    "it = (len(x) for x in open(\"my_file.txt\"))\n",
    "print(it) # 제너레이터 식은 출력 시퀀스 전체가 실체화 되지 않는다\n",
    "print(next(it))\n",
    "print(next(it))\n",
    "\n",
    "# 제너레이터의 강력한 특징은 두 제너레이터 식을 합성할 수 있다는 점이다. \n",
    "# 다음 코드에서는 앞에서 본 제너레이터 식이 반환한 이터레이터를 다른 제너레이터 식의 입력으로 사용한다. \n",
    "\n",
    "Root = ((x,x**0.5) for x in it)\n",
    "print(next(Root))\n",
    "\n"
   ]
  },
  {
   "cell_type": "markdown",
   "metadata": {},
   "source": [
    "제너레이터 식의 또 다른 강력한 특징은 두 제너레이터 식을 합성할 수 있다는 점이다.    \n",
    "\n",
    "\n",
    "제너레이터 식은 이터레이터를 전진시킬 때마다 내부의 이터레이도 전진되면서 도미노처럼 연쇄적으로 루프가 실행돼 조건식을 평가하고,   \n",
    "입력과 출력을 서로 주고 받는다. 이 모든 과정이 가능한 **메모리를 효율적**으로 사용하면서 이뤄진다. \n"
   ]
  },
  {
   "cell_type": "markdown",
   "metadata": {},
   "source": [
    "## 33. yield from을 사용해 여러 제너레이터를 합성하라. \n",
    "- 제너레이터가 아주 유용하기 때문에 다양한 곳에 제너레이터가 쓰이고 있다. \n",
    "- 이로 인해 제너레이터를 여러 단계에 걸쳐 한 줄기로 연결한 것처럼 보이는 프로그램도 많다.\n",
    "\n"
   ]
  },
  {
   "cell_type": "code",
   "execution_count": 19,
   "metadata": {},
   "outputs": [
    {
     "name": "stdout",
     "output_type": "stream",
     "text": [
      "Delta : 5.0\n",
      "Delta : 5.0\n",
      "Delta : 5.0\n",
      "Delta : 5.0\n",
      "Delta : 0.0\n",
      "Delta : 0.0\n",
      "Delta : 0.0\n",
      "Delta : 3.0\n",
      "Delta : 3.0\n"
     ]
    }
   ],
   "source": [
    "def move(period,speed):\n",
    "    for _ in range(period):\n",
    "        yield speed \n",
    "\n",
    "def pause(delay):\n",
    "    for _ in range(delay):\n",
    "        yield 0 \n",
    "\n",
    "# 두 제네레이터 함수를 합성해서 변위 시퀀스를 하나만 만들어야 한다. \n",
    "# 애니메이션의 각 단계마다 제너레이터를 호출해서 차례로 이터레이션하고 \n",
    "# 각 이터레이션에서 나오는 변위를 순서대로 내보내는 방식으로 다음과 같이 시퀀스를 만든다. \n",
    "        \n",
    "def animate():\n",
    "    for delta in move(4,5.0):\n",
    "        yield delta\n",
    "    for delta in pause(3):\n",
    "        yield delta\n",
    "    for delta in move(2,3.0):\n",
    "        yield delta \n",
    "\n",
    "def render(delta):\n",
    "    print(f\"Delta : {delta:.1f}\")\n",
    "\n",
    "def run(func):\n",
    "    for delta in func():\n",
    "        render(delta)\n",
    "        \n",
    "run(animate)\n"
   ]
  },
  {
   "cell_type": "markdown",
   "metadata": {},
   "source": [
    "- 이 코드의 문제점은 animate가 너무 반복적이라는 것이다. \n",
    "for문과 yield 식이 반복되면서 잡음이 늘고 가독성이 줄어든다.   \n",
    "이 예제는 제너레이터를 겨우 세개만 내포 시켰는데 벌써 코드가 명확하지 못하다. \n",
    "\n",
    "열 단계가 넘어가는 복잡한 애니메이션을 표현하는 코드는 따라가기 훨씬 더 어려울 것이다. \n",
    "\n",
    "\n",
    "- 이 문제의 해법은 yield from 식을 사용하는 것이다. 이는 고급 제너레이터 기능으로, \n",
    "- 제어를 부모 제너레이터에게 전달하기 전에 내포된 제너레이터가 모든 값을 내보낸다. \n"
   ]
  },
  {
   "cell_type": "code",
   "execution_count": 20,
   "metadata": {},
   "outputs": [
    {
     "name": "stdout",
     "output_type": "stream",
     "text": [
      "Delta : 5.0\n",
      "Delta : 5.0\n",
      "Delta : 5.0\n",
      "Delta : 5.0\n",
      "Delta : 0.0\n",
      "Delta : 0.0\n",
      "Delta : 0.0\n",
      "Delta : 3.0\n",
      "Delta : 3.0\n"
     ]
    }
   ],
   "source": [
    "def animate_composed():\n",
    "    yield from move(4,5.0)\n",
    "    yield from pause(3)\n",
    "    yield from move(2,3.0)\n",
    "\n",
    "run(animate_composed)"
   ]
  },
  {
   "cell_type": "markdown",
   "metadata": {},
   "source": [
    "- 좀 더 명확하고 더 직관적이다. \n",
    "\n",
    "yield from은 근본적으로 파이썬 인터프리터가 대신 for 루프를 내포시키고 yield 식을 처리하도록 만든다.    \n",
    "이로 인해 성능도 더 좋아진다. 다음 코드에서는 timeit내장 모듈을 통해 마이크로 벤치마크를 실행함으로써 성능이 개선되는지 살펴보자."
   ]
  },
  {
   "cell_type": "code",
   "execution_count": 22,
   "metadata": {},
   "outputs": [
    {
     "name": "stdout",
     "output_type": "stream",
     "text": [
      "수동 내포 : 3.37s\n",
      "합성 사용 : 2.96s\n",
      "12.2% 시간이 적게 듦\n"
     ]
    }
   ],
   "source": [
    "import timeit \n",
    "\n",
    "def child():\n",
    "    for i in range(1_000_000):\n",
    "        yield i\n",
    "    \n",
    "def slow():\n",
    "    for i in child():\n",
    "        yield i \n",
    "def fast():\n",
    "    yield from child()\n",
    "\n",
    "baseline = timeit.timeit(\n",
    "    stmt = \"for _ in slow():pass\",\n",
    "    globals=globals(),\n",
    "    number=50\n",
    ")\n",
    "\n",
    "print(f\"수동 내포 : {baseline:.2f}s\")\n",
    "\n",
    "comparison = timeit.timeit(\n",
    "    stmt=\"for _ in fast():pass\",\n",
    "    globals = globals(),\n",
    "    number=50\n",
    ")\n",
    "\n",
    "print(f\"합성 사용 : {comparison:.2f}s\")\n",
    "\n",
    "reduction = -(comparison-baseline) / baseline\n",
    "print(f\"{reduction:.1%} 시간이 적게 듦\")\n"
   ]
  },
  {
   "cell_type": "markdown",
   "metadata": {},
   "source": [
    "## send로 제너레이터에 데이터를 주입하지 말라.\n",
    "- yield를 사용하면 제너레이터 함수가 간단하게 이터레이션이 가능한 출력 값을 만들어 낼 수 있다. \n",
    "- 하지만 이렇게 만들어 내는 데이터 채널은 단방향이다. \n",
    "- 제너레이터가 데이터를 내보내면서 다른 데이터를 받아들일 때 직접 쓸 수 있는 방법이 없는 것처럼 보인다. \n",
    "\n",
    "- 하지만 양방향 통신이 있다면 많은 경우에 도움이 될 것이다. "
   ]
  },
  {
   "cell_type": "code",
   "execution_count": 23,
   "metadata": {},
   "outputs": [
    {
     "name": "stdout",
     "output_type": "stream",
     "text": [
      "출력 :   0.0\n",
      "출력 :   2.1\n",
      "출력 :   3.0\n",
      "출력 :   2.1\n",
      "출력 :   0.0\n",
      "출력 :  -2.1\n",
      "출력 :  -3.0\n",
      "출력 :  -2.1\n"
     ]
    }
   ],
   "source": [
    "# 소프트웨어 라디오를 사용해 신호를 내보낸다고 하자. \n",
    "# 다음 코드는 주어진 간격과 진폭에 따른 사인파 값을 생성한다. \n",
    "\n",
    "import math \n",
    "\n",
    "def wave(amplitude,steps):\n",
    "    step_size = 2*math.pi/steps # 2라이안 / 단계 수 \n",
    "    for step in range(steps):\n",
    "        radians = step*step_size\n",
    "        fraction = math.sin(radians)\n",
    "        output = amplitude * fraction\n",
    "        yield output \n",
    "\n",
    "\n",
    "def transmit(output):\n",
    "    if output is None:\n",
    "        print(f\"출력 : None\")\n",
    "    else:\n",
    "        print(f\"출력 : {output:>5.1f}\")\n",
    "\n",
    "def run(it):\n",
    "    for output in it:\n",
    "        transmit(output)\n",
    "\n",
    "\n",
    "run(wave(3.0,8))"
   ]
  },
  {
   "cell_type": "code",
   "execution_count": 25,
   "metadata": {},
   "outputs": [
    {
     "name": "stdout",
     "output_type": "stream",
     "text": [
      "출력값 = 1\n",
      "받은 값 = None\n"
     ]
    }
   ],
   "source": [
    "# 라디오 신호를 방송하기 위해 필요한 다른 신호를 사용해 진폭을 지속적으로 변경해야 한다면,\n",
    "# 이 코드는 쓸모가 없다. 우리에게는 제너레이터를 이터레이션할 때마다 진폭을 변조할 수 있는 방법이 필요하다. \n",
    "\n",
    "# 제네레이터는 send 메서드를 지원한다. 이 메서드는 yield 식을 양방향 채널로 격상시켜준다. \n",
    "# send 메서드를 사용하면 입력을 제너레이터에 스트리밍하는 동시에 출력을 내보 낼 수 있다. \n",
    "# 일반적으로 제너레이터를 이터레이션 할 때 yield식이 반환하는 값은 None이다. \n",
    "\n",
    "def my_generator():\n",
    "    received = yield 1\n",
    "    print(f\"받은 값 = {received}\")\n",
    "\n",
    "it = iter(my_generator())\n",
    "output = next(it)\n",
    "print(f\"출력값 = {output}\")\n",
    "\n",
    "try:\n",
    "    next(it) # 종료될 때까지 제너레이터를 실행한다. \n",
    "except StopIteration:\n",
    "    pass \n"
   ]
  },
  {
   "cell_type": "markdown",
   "metadata": {},
   "source": [
    "- for , next 내장 함수로 제너레이터를 이터레이션 하지 않고 send메서드를 호출하면, 제너레이터가 재개(resume)될 때,\n",
    "- yield 가 send에 전달된 파라미터 값을 반환한다. \n",
    "- 하지만 방금 시작한 제너레이터는 아직 yield 식에 도달하지 못했기 때문에 최초로 send를 호출할 때 인자로 전달할 수 있는 유일한 값은 None뿐이다. "
   ]
  },
  {
   "cell_type": "code",
   "execution_count": 27,
   "metadata": {},
   "outputs": [
    {
     "ename": "TypeError",
     "evalue": "can't send non-None value to a just-started generator",
     "output_type": "error",
     "traceback": [
      "\u001b[1;31m---------------------------------------------------------------------------\u001b[0m",
      "\u001b[1;31mTypeError\u001b[0m                                 Traceback (most recent call last)",
      "Cell \u001b[1;32mIn[27], line 2\u001b[0m\n\u001b[0;32m      1\u001b[0m it \u001b[38;5;241m=\u001b[39m \u001b[38;5;28miter\u001b[39m(my_generator())\n\u001b[1;32m----> 2\u001b[0m output \u001b[38;5;241m=\u001b[39m \u001b[43mit\u001b[49m\u001b[38;5;241;43m.\u001b[39;49m\u001b[43msend\u001b[49m\u001b[43m(\u001b[49m\u001b[38;5;241;43m1\u001b[39;49m\u001b[43m)\u001b[49m \u001b[38;5;66;03m# 첫 번째 제너레이터 출력을 얻는다.\u001b[39;00m\n\u001b[0;32m      4\u001b[0m \u001b[38;5;28mprint\u001b[39m(\u001b[38;5;124mf\u001b[39m\u001b[38;5;124m\"\u001b[39m\u001b[38;5;124m출력값 = \u001b[39m\u001b[38;5;132;01m{\u001b[39;00moutput\u001b[38;5;132;01m}\u001b[39;00m\u001b[38;5;124m\"\u001b[39m)\n\u001b[0;32m      6\u001b[0m \u001b[38;5;28;01mtry\u001b[39;00m:\n",
      "\u001b[1;31mTypeError\u001b[0m: can't send non-None value to a just-started generator"
     ]
    }
   ],
   "source": [
    "it = iter(my_generator())\n",
    "output = it.send(None) # 첫 번째 제너레이터 출력을 얻는다.\n",
    "# None이 아니면 TypeError: can't send non-None value to a just-started generator 발생 \n",
    "\n",
    "print(f\"출력값 = {output}\")\n",
    "\n",
    "try:\n",
    "    it.send(\"안녕!\")\n",
    "except StopIteration:\n",
    "    pass "
   ]
  },
  {
   "cell_type": "code",
   "execution_count": null,
   "metadata": {},
   "outputs": [],
   "source": []
  }
 ],
 "metadata": {
  "kernelspec": {
   "display_name": "hand_on_ml",
   "language": "python",
   "name": "python3"
  },
  "language_info": {
   "codemirror_mode": {
    "name": "ipython",
    "version": 3
   },
   "file_extension": ".py",
   "mimetype": "text/x-python",
   "name": "python",
   "nbconvert_exporter": "python",
   "pygments_lexer": "ipython3",
   "version": "3.8.10"
  }
 },
 "nbformat": 4,
 "nbformat_minor": 2
}
